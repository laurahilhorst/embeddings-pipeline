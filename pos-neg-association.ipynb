{
 "cells": [
  {
   "cell_type": "code",
   "execution_count": 5,
   "id": "7c27c4d1",
   "metadata": {},
   "outputs": [],
   "source": [
    "import pandas as pd\n",
    "import numpy as np\n",
    "from gensim.models import KeyedVectors\n",
    "from gensim.models import Word2Vec\n",
    "from scipy.stats import bootstrap\n",
    "import matplotlib.pyplot as plt\n",
    "from nltk.text import Text\n",
    "import os\n",
    "import multiprocessing\n",
    "\n",
    "import gensim\n",
    "from gensim.test.utils import datapath\n",
    "import tikzplotlib"
   ]
  },
  {
   "cell_type": "markdown",
   "id": "15f2b137",
   "metadata": {},
   "source": [
    "## Make positive and negative vectors"
   ]
  },
  {
   "cell_type": "code",
   "execution_count": 6,
   "id": "8b1ba998",
   "metadata": {},
   "outputs": [
    {
     "name": "stdout",
     "output_type": "stream",
     "text": [
      "CPU times: user 13.2 ms, sys: 5.39 ms, total: 18.5 ms\n",
      "Wall time: 18.4 ms\n"
     ]
    },
    {
     "data": {
      "text/plain": [
       "(354, 305)"
      ]
     },
     "execution_count": 6,
     "metadata": {},
     "output_type": "execute_result"
    }
   ],
   "source": [
    "%%time\n",
    "#load cornetto & liwc\n",
    "cornetto = pd.read_csv('emotion_cornetto.csv')\n",
    "corn_pos=cornetto.loc[(cornetto['polarity'] > 0.4) & (cornetto['confidence'] > 0.8)]['word']\n",
    "corn_neg = cornetto.loc[(cornetto['polarity'] < -0.4) & (cornetto['confidence'] > 0.8)]['word']\n",
    "len(corn_pos),len(corn_neg)"
   ]
  },
  {
   "cell_type": "markdown",
   "id": "be013e71",
   "metadata": {},
   "source": [
    "## Load W2V models"
   ]
  },
  {
   "cell_type": "code",
   "execution_count": 7,
   "id": "68d1fee2",
   "metadata": {},
   "outputs": [
    {
     "name": "stdout",
     "output_type": "stream",
     "text": [
      "CPU times: user 4.66 s, sys: 706 ms, total: 5.37 s\n",
      "Wall time: 5.54 s\n"
     ]
    }
   ],
   "source": [
    "%%time\n",
    "#kopieercode voor laden\n",
    "model_40s = Word2Vec.load(\"models_2107/model_40_2607.wordvectors\", mmap='r')\n",
    "model_50s = Word2Vec.load(\"models_2107/model_50_2607.wordvectors\", mmap='r')\n",
    "model_60s = Word2Vec.load(\"models_2107/model_60_2607.wordvectors\", mmap='r')\n",
    "model_70s = Word2Vec.load(\"models_2107/model_70_2607.wordvectors\", mmap='r')\n",
    "model_80s = Word2Vec.load(\"models_2107/model_80_2607.wordvectors\", mmap='r')\n",
    "model_90s = Word2Vec.load(\"models_2107/model_90_2607.wordvectors\", mmap='r')\n",
    "\n",
    "na_model_40s = Word2Vec.load(\"models_2107/na_model_40_2607.wordvectors\", mmap='r')\n",
    "na_model_50s = Word2Vec.load(\"models_2107/na_model_50_2607.wordvectors\", mmap='r')\n",
    "na_model_60s = Word2Vec.load(\"models_2107/na_model_60_2607.wordvectors\", mmap='r')\n",
    "na_model_70s = Word2Vec.load(\"models_2107/na_model_70_2607.wordvectors\", mmap='r')\n",
    "na_model_80s = Word2Vec.load(\"models_2107/na_model_80_2607.wordvectors\", mmap='r')\n",
    "na_model_90s = Word2Vec.load(\"models_2107/na_model_90_2607.wordvectors\", mmap='r')\n",
    "\n",
    "# model_nrc = Word2Vec.load(\"models/model_nrc_1407.wordvectors\", mmap='r')\n",
    "# model_tel = Word2Vec.load(\"models/model_tel_1407.wordvectors\", mmap='r')\n",
    "# model_vk = Word2Vec.load(\"models/model_vk_1407.wordvectors\", mmap='r')\n",
    "# model_trouw = Word2Vec.load(\"models/model_trouw_1407.wordvectors\", mmap='r')\n",
    "models_dec = [model_40s,model_50s,model_60s,model_70s,model_80s,model_90s]\n",
    "models_na = [na_model_40s,na_model_50s,na_model_60s,na_model_70s,na_model_80s,na_model_90s]\n",
    "models = models_dec + models_na"
   ]
  },
  {
   "cell_type": "code",
   "execution_count": 8,
   "id": "825d73eb",
   "metadata": {},
   "outputs": [
    {
     "name": "stdout",
     "output_type": "stream",
     "text": [
      "9295\n",
      "28294\n",
      "40969\n",
      "68516\n",
      "123315\n",
      "113668\n",
      "7774\n",
      "25650\n",
      "35506\n",
      "55468\n",
      "79635\n",
      "70929\n"
     ]
    }
   ],
   "source": [
    "#get vocab sizes\n",
    "for i in models_dec:\n",
    "    print((len(i.wv.vocab)))\n",
    "    \n",
    "for i in models_na:\n",
    "    print((len(i.wv.vocab)))"
   ]
  },
  {
   "cell_type": "code",
   "execution_count": 9,
   "id": "97089475",
   "metadata": {},
   "outputs": [],
   "source": [
    "#load liwc\n",
    "pos = ['Posemo','Optim','Posfeel','Achieve']\n",
    "neg = ['Swear','Sad','Anger','Negemo']\n",
    "liwc = pd.read_csv('LIWC_Dutch.csv')\n",
    "liwc_pos = sum([list(liwc[i]) for i in pos],[])\n",
    "liwc_neg=sum([list(liwc[i]) for i in neg],[])"
   ]
  },
  {
   "cell_type": "code",
   "execution_count": 10,
   "id": "a7ec9e89",
   "metadata": {},
   "outputs": [
    {
     "data": {
      "text/plain": [
       "(1370, 1321)"
      ]
     },
     "execution_count": 10,
     "metadata": {},
     "output_type": "execute_result"
    }
   ],
   "source": [
    "#combine\n",
    "all_pos = liwc_pos + list(corn_pos)\n",
    "all_neg = liwc_neg + list(corn_neg)\n",
    "len(all_pos), len(all_neg)"
   ]
  },
  {
   "cell_type": "markdown",
   "id": "87f1d573",
   "metadata": {},
   "source": [
    "## Calculate association score"
   ]
  },
  {
   "cell_type": "code",
   "execution_count": 18,
   "id": "050b0eb0",
   "metadata": {},
   "outputs": [],
   "source": [
    "#synsets\n",
    "syns_homo = ['homoseksuele', 'gay', 'flikker', 'homo', 'homofiel', 'homoseksueel']\n",
    "syns_neger = ['moor', 'neger', 'negerin'] \n",
    "syns_zigeuner = ['roma', 'zigeunerin', 'gipsy', 'zigeuner']\n"
   ]
  },
  {
   "cell_type": "code",
   "execution_count": 14,
   "id": "6bc2385e",
   "metadata": {},
   "outputs": [],
   "source": [
    "def calc_distance_between_vectors(vec1, vec2, distype = 'norm'):\n",
    "    return np.linalg.norm(np.subtract(vec1, vec2))"
   ]
  },
  {
   "cell_type": "code",
   "execution_count": 15,
   "id": "e9fd8888",
   "metadata": {},
   "outputs": [],
   "source": [
    "def ass_score_over_time(models,features,pos,neg):\n",
    "    means = []\n",
    "    bounds = []\n",
    "    values = []\n",
    "    year = []\n",
    "    for index, model in enumerate(models):       \n",
    "        v1 = np.mean([model[word] for word in pos if word in model.wv.vocab], axis=0)\n",
    "        #v = calculate_vectors(model, male_words, female_words)\n",
    "        v2 = np.mean([model[word] for word in neg if word in model.wv.vocab], axis=0)\n",
    "        x = []\n",
    "        y = []\n",
    "        for word in features:\n",
    "            try:\n",
    "                x.append(calc_distance_between_vectors(v1, model[word]))\n",
    "                y.append(calc_distance_between_vectors(v2, model[word]))\n",
    "            except:\n",
    "                x.append(0)\n",
    "                y.append(0)\n",
    "        C = [x_ - y_ for x_, y_ in zip(x, y)]\n",
    "        values.append(C)\n",
    "        means.append(np.mean(C))\n",
    "        values_t = list(map(list, zip(*values)))\n",
    "        #bounds.append(bootstrap(C, np.mean, confidence_level=0.95, n_resamples=1000).confidence_interval)\n",
    "    return features,values_t"
   ]
  },
  {
   "cell_type": "code",
   "execution_count": 19,
   "id": "159c8e61",
   "metadata": {},
   "outputs": [
    {
     "name": "stderr",
     "output_type": "stream",
     "text": [
      "<ipython-input-15-7f2d52f3407f>:11: DeprecationWarning: Call to deprecated `__getitem__` (Method will be removed in 4.0.0, use self.wv.__getitem__() instead).\n",
      "  v1 = np.mean([model[word] for word in pos if word in model.wv.vocab], axis=0)\n",
      "<ipython-input-15-7f2d52f3407f>:13: DeprecationWarning: Call to deprecated `__getitem__` (Method will be removed in 4.0.0, use self.wv.__getitem__() instead).\n",
      "  v2 = np.mean([model[word] for word in neg if word in model.wv.vocab], axis=0)\n",
      "<ipython-input-15-7f2d52f3407f>:18: DeprecationWarning: Call to deprecated `__getitem__` (Method will be removed in 4.0.0, use self.wv.__getitem__() instead).\n",
      "  x.append(calc_distance_between_vectors(v1, model[word]))\n",
      "<ipython-input-15-7f2d52f3407f>:19: DeprecationWarning: Call to deprecated `__getitem__` (Method will be removed in 4.0.0, use self.wv.__getitem__() instead).\n",
      "  y.append(calc_distance_between_vectors(v2, model[word]))\n"
     ]
    },
    {
     "data": {
      "image/png": "[encoded data removed]",
      "text/plain": [
       "<Figure size 432x288 with 1 Axes>"
      ]
     },
     "metadata": {
      "needs_background": "light"
     },
     "output_type": "display_data"
    },
    {
     "name": "stdout",
     "output_type": "stream",
     "text": [
      "CPU times: user 438 ms, sys: 20.5 ms, total: 459 ms\n",
      "Wall time: 499 ms\n"
     ]
    }
   ],
   "source": [
    "%%time\n",
    "features,values = ass_score_over_time(models_na,syns_homo,all_pos,all_neg)\n",
    "x = [1940,1950,1960,1970,1980,1990]\n",
    "fig, ax = plt.subplots()\n",
    "for i in range(len(features)):\n",
    "    ax.plot(x, values[i], label = features[i])\n",
    "ax.hlines(y=0, xmin=1940, xmax=1990, linewidth=3,linestyles='dotted')\n",
    "plt.legend()\n",
    "plt.ylim(-1.2,1.2)\n",
    "plt.ylabel('association score')\n",
    "plt.show()\n",
    "#fig.savefig(\"na_asso_zigeuner_2607.pdf\")"
   ]
  },
  {
   "cell_type": "code",
   "execution_count": null,
   "id": "4b2c1f2e",
   "metadata": {},
   "outputs": [],
   "source": [
    "%%time\n",
    "features,values = ass_score_over_time(models_dec,syns_zigeuner,all_pos,all_neg)\n",
    "x = [1940,1950,1960,1970,1980,1990]\n",
    "for i in range(len(features)):\n",
    "    plt.plot(x, values[i], label = features[i])\n",
    "plt.legend()\n",
    "plt.show()\n",
    "print(values)"
   ]
  }
 ],
 "metadata": {
  "kernelspec": {
   "display_name": "Python 3",
   "language": "python",
   "name": "python3"
  },
  "language_info": {
   "codemirror_mode": {
    "name": "ipython",
    "version": 3
   },
   "file_extension": ".py",
   "mimetype": "text/x-python",
   "name": "python",
   "nbconvert_exporter": "python",
   "pygments_lexer": "ipython3",
   "version": "3.8.8"
  }
 },
 "nbformat": 4,
 "nbformat_minor": 5
}
