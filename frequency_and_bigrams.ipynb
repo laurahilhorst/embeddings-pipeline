{
 "cells": [
  {
   "cell_type": "code",
   "execution_count": 1,
   "id": "564791b8",
   "metadata": {},
   "outputs": [],
   "source": [
    "import pandas as pd\n",
    "import matplotlib.pyplot as plt\n",
    "from spacy.lang.nl.examples import sentences \n",
    "from nltk.tokenize import word_tokenize, sent_tokenize\n",
    "from nltk.corpus import stopwords\n",
    "import spacy\n",
    "import itertools\n",
    "from collections import Counter\n",
    "import nltk\n",
    "import tikzplotlib"
   ]
  },
  {
   "cell_type": "code",
   "execution_count": 2,
   "id": "65037fa5",
   "metadata": {},
   "outputs": [],
   "source": [
    "#synsets\n",
    "syns_homo = ['homoseksuele', 'gay', 'flikker','homo', 'homofiel', 'homoseksueel']\n",
    "syns_neger = ['moor', 'neger', 'negerin'] \n",
    "syns_zigeuner = ['roma', 'zigeunerin', 'gipsy', 'zigeuner']\n",
    "synsets = syns_zigeuner + syns_homo +s yns_neger"
   ]
  },
  {
   "cell_type": "code",
   "execution_count": 3,
   "id": "716f9b09",
   "metadata": {},
   "outputs": [],
   "source": [
    "#read all data\n",
    "all_df = pd.read_csv('all_df_2607.csv')\n",
    "no_ads = pd.read_csv('no_ads_2607.csv')\n",
    "\n",
    "total_numbers = pd.read_csv('total_number_articles.csv')\n",
    "total_na_numbers = pd.read_csv('na_number_articles.csv')"
   ]
  },
  {
   "cell_type": "code",
   "execution_count": 4,
   "id": "cdf98eff",
   "metadata": {},
   "outputs": [],
   "source": [
    "#get total results\n",
    "total_numbers = total_numbers[['decade','total_results']].groupby('decade').agg('sum').reset_index()\n",
    "na_numbers = total_na_numbers[['decade','total_results']].groupby('decade').agg('sum').reset_index()"
   ]
  },
  {
   "cell_type": "code",
   "execution_count": 5,
   "id": "b3ef24fd",
   "metadata": {},
   "outputs": [],
   "source": [
    "all_df = all_df.drop_duplicates('text')\n",
    "all_df_merged = all_df.merge(total_numbers,left_on=['decade'],right_on=['decade'], how='left')\n",
    "\n",
    "no_ads = no_ads.drop_duplicates('text')\n",
    "na_df_merged = no_ads.merge(na_numbers,left_on=['decade'],right_on=['decade'], how='left')"
   ]
  },
  {
   "cell_type": "code",
   "execution_count": 6,
   "id": "52cb44bd",
   "metadata": {},
   "outputs": [
    {
     "data": {
      "text/html": [
       "<div>\n",
       "<style scoped>\n",
       "    .dataframe tbody tr th:only-of-type {\n",
       "        vertical-align: middle;\n",
       "    }\n",
       "\n",
       "    .dataframe tbody tr th {\n",
       "        vertical-align: top;\n",
       "    }\n",
       "\n",
       "    .dataframe thead th {\n",
       "        text-align: right;\n",
       "    }\n",
       "</style>\n",
       "<table border=\"1\" class=\"dataframe\">\n",
       "  <thead>\n",
       "    <tr style=\"text-align: right;\">\n",
       "      <th></th>\n",
       "      <th>decade</th>\n",
       "      <th>search_term</th>\n",
       "      <th>num_occurrences</th>\n",
       "    </tr>\n",
       "  </thead>\n",
       "  <tbody>\n",
       "    <tr>\n",
       "      <th>0</th>\n",
       "      <td>1940</td>\n",
       "      <td>flikker</td>\n",
       "      <td>3</td>\n",
       "    </tr>\n",
       "    <tr>\n",
       "      <th>1</th>\n",
       "      <td>1940</td>\n",
       "      <td>gay</td>\n",
       "      <td>85</td>\n",
       "    </tr>\n",
       "    <tr>\n",
       "      <th>2</th>\n",
       "      <td>1940</td>\n",
       "      <td>gipsy</td>\n",
       "      <td>17</td>\n",
       "    </tr>\n",
       "    <tr>\n",
       "      <th>3</th>\n",
       "      <td>1940</td>\n",
       "      <td>homo</td>\n",
       "      <td>69</td>\n",
       "    </tr>\n",
       "    <tr>\n",
       "      <th>4</th>\n",
       "      <td>1940</td>\n",
       "      <td>moor</td>\n",
       "      <td>365</td>\n",
       "    </tr>\n",
       "    <tr>\n",
       "      <th>...</th>\n",
       "      <td>...</td>\n",
       "      <td>...</td>\n",
       "      <td>...</td>\n",
       "    </tr>\n",
       "    <tr>\n",
       "      <th>69</th>\n",
       "      <td>1990</td>\n",
       "      <td>neger</td>\n",
       "      <td>766</td>\n",
       "    </tr>\n",
       "    <tr>\n",
       "      <th>70</th>\n",
       "      <td>1990</td>\n",
       "      <td>negerin</td>\n",
       "      <td>90</td>\n",
       "    </tr>\n",
       "    <tr>\n",
       "      <th>71</th>\n",
       "      <td>1990</td>\n",
       "      <td>roma</td>\n",
       "      <td>4062</td>\n",
       "    </tr>\n",
       "    <tr>\n",
       "      <th>72</th>\n",
       "      <td>1990</td>\n",
       "      <td>zigeuner</td>\n",
       "      <td>387</td>\n",
       "    </tr>\n",
       "    <tr>\n",
       "      <th>73</th>\n",
       "      <td>1990</td>\n",
       "      <td>zigeunerin</td>\n",
       "      <td>138</td>\n",
       "    </tr>\n",
       "  </tbody>\n",
       "</table>\n",
       "<p>74 rows × 3 columns</p>\n",
       "</div>"
      ],
      "text/plain": [
       "    decade search_term  num_occurrences\n",
       "0     1940     flikker                3\n",
       "1     1940         gay               85\n",
       "2     1940       gipsy               17\n",
       "3     1940        homo               69\n",
       "4     1940        moor              365\n",
       "..     ...         ...              ...\n",
       "69    1990       neger              766\n",
       "70    1990     negerin               90\n",
       "71    1990        roma             4062\n",
       "72    1990    zigeuner              387\n",
       "73    1990  zigeunerin              138\n",
       "\n",
       "[74 rows x 3 columns]"
      ]
     },
     "execution_count": 6,
     "metadata": {},
     "output_type": "execute_result"
    }
   ],
   "source": [
    "grouped_df = all_df_merged[['decade','article_id','search_term']].groupby(['decade','search_term']).agg('count')\n",
    "grouped_df = grouped_df.reset_index()\n",
    "grouped_df.columns=['decade','search_term','num_occurrences']\n",
    "grouped_df\n",
    "\n",
    "na_grouped_df = na_df_merged[['decade','article_id','search_term']].groupby(['decade','search_term']).agg('count')\n",
    "na_grouped_df = na_grouped_df.reset_index()\n",
    "na_grouped_df.columns=['decade','search_term','num_occurrences']\n",
    "na_grouped_df"
   ]
  },
  {
   "cell_type": "code",
   "execution_count": 7,
   "id": "87afb845",
   "metadata": {},
   "outputs": [
    {
     "data": {
      "image/png": "[encoded data removed]",
      "text/plain": [
       "<Figure size 432x288 with 1 Axes>"
      ]
     },
     "metadata": {
      "needs_background": "light"
     },
     "output_type": "display_data"
    }
   ],
   "source": [
    "grouped_with_total = grouped_df.merge(all_df_merged[['decade','search_term','total_results']],on=['decade','search_term'])\n",
    "grouped_with_total['rel_prev'] = grouped_with_total['num_occurrences']/grouped_with_total['total_results']\n",
    "\n",
    "\n",
    "na_grouped_with_total = na_grouped_df.merge(na_df_merged[['decade','search_term','total_results']],on=['decade','search_term'])\n",
    "na_grouped_with_total['rel_prev'] = na_grouped_with_total['num_occurrences']/na_grouped_with_total['total_results']\n",
    "\n",
    "grouped_with_total.drop_duplicates(inplace=True)\n",
    "na_grouped_with_total.drop_duplicates(inplace=True)\n",
    "\n",
    "all_traces = {}\n",
    "na_all_traces = {}\n",
    "\n",
    "for i in synsets:\n",
    "    x = [1940,1950,1960,1970,1980,1990]\n",
    "    for word in i:\n",
    "        y = {}\n",
    "        z = grouped_with_total.loc[grouped_with_total['search_term'] == word][['decade','rel_prev']]\n",
    "        k = {}\n",
    "        l = na_grouped_with_total.loc[na_grouped_with_total['search_term'] == word][['decade','rel_prev']]\n",
    "\n",
    "        for i in x:\n",
    "            if i in list(z['decade']):\n",
    "                y[i] = z.loc[z['decade'] == i]['rel_prev'].item()\n",
    "                k[i] = l.loc[l['decade'] == i]['rel_prev'].item()\n",
    "            else:\n",
    "                y[i] = 0\n",
    "                k[i] = 0\n",
    "        all_traces[word] = y\n",
    "        na_all_traces[word] = k\n",
    "        plt.plot(x,list(y.values()))\n"
   ]
  },
  {
   "cell_type": "code",
   "execution_count": 8,
   "id": "ecb5e737",
   "metadata": {},
   "outputs": [
    {
     "data": {
      "image/png": "[encoded data removed]",
      "text/plain": [
       "<Figure size 432x288 with 1 Axes>"
      ]
     },
     "metadata": {
      "needs_background": "light"
     },
     "output_type": "display_data"
    }
   ],
   "source": [
    "fig, ax = plt.subplots()\n",
    "for i in syns_zigeuner:\n",
    "    if i in list(na_all_traces.keys()):\n",
    "        plt.plot(x,[i*100 for i in list(all_traces[i].values())],label = i)\n",
    "        plt.legend(loc=\"upper left\")\n",
    "plt.ylabel(\"prevalence percentage\")       \n",
    "fig.savefig('prev_2607_zigeuner.pdf')"
   ]
  },
  {
   "cell_type": "markdown",
   "id": "b91cf156",
   "metadata": {},
   "source": [
    "## Context words"
   ]
  },
  {
   "cell_type": "code",
   "execution_count": 9,
   "id": "57e8dc7b",
   "metadata": {},
   "outputs": [],
   "source": [
    "#initialize nlp function\n",
    "nlp = spacy.load(\"nl_core_news_sm\")\n",
    "raw_texts =  list(all_df['text'])"
   ]
  },
  {
   "cell_type": "code",
   "execution_count": 10,
   "id": "2bd51013",
   "metadata": {},
   "outputs": [],
   "source": [
    "def get_bigrams(texts,search_term):\n",
    "    texts = [text.replace(\"\\\\n\", \"\").strip().lower() for text in texts]\n",
    "    texts = [text.replace(\"\\\\\", \"\").strip() for text in texts]\n",
    "    texts = [''.join([c for c in text if c.isalnum() or c == ' ']) for text in texts]\n",
    "    stopwords_list = list(stopwords.words('dutch'))\n",
    "    bgs = nltk.bigrams(str(texts).split())\n",
    "\n",
    "    fdist = nltk.FreqDist(bgs)\n",
    "    sorted_fdist = dict(sorted(fdist.items(), key=lambda item: item[1],reverse=True))\n",
    "\n",
    "    list_of_tuples = list(sorted_fdist.items())\n",
    "    cleaned_tuples = [i for i in list_of_tuples if i[0][0] not in stopwords_list and i[0][1] not in stopwords_list \n",
    "                      and len(i[0][0]) > 2 and len(i[0][1]) > 2 \n",
    "                      and search_term in i[0] and i[1] > 2]\n",
    "    return cleaned_tuples"
   ]
  },
  {
   "cell_type": "code",
   "execution_count": 11,
   "id": "8a1aabca",
   "metadata": {},
   "outputs": [],
   "source": [
    "def bigrams_table_tex(df,word):\n",
    "    decades = [1940,1950,1960,1970,1980,1990]\n",
    "    bgs_df = pd.DataFrame()\n",
    "    for decade in decades:\n",
    "        bgs = get_bigrams(list(df.loc[(df['search_term'] == word) & (df['decade'] == decade)]['text']),word)\n",
    "    #     fig, ax = plt.subplots()\n",
    "        top10 = [str(i)[1:-1] for i in bgs[:10]]\n",
    "        if len(top10) == 10:\n",
    "            bgs_df[decade] = top10\n",
    "        else:\n",
    "            bgs_df[decade] = top10 + [\"-\"] * (10-len(top10))\n",
    "    #print(bgs_df.to_latex())\n",
    "    return bgs_df"
   ]
  },
  {
   "cell_type": "code",
   "execution_count": 19,
   "id": "9a51cd45",
   "metadata": {},
   "outputs": [],
   "source": [
    "for i in syns_zigeuner:\n",
    "    with open(f'{i}_bigram_table.tex', 'w') as tf:\n",
    "        tf.write(bigrams_table_tex(all_df,i))"
   ]
  },
  {
   "cell_type": "code",
   "execution_count": 20,
   "id": "507dab92",
   "metadata": {},
   "outputs": [],
   "source": [
    "for i in syns_zigeuner:\n",
    "    with open(f'na_{i}_bigram_table.tex', 'w') as tf:\n",
    "        tf.write(bigrams_table_tex(no_ads,i))"
   ]
  },
  {
   "cell_type": "code",
   "execution_count": null,
   "id": "bb42e53a",
   "metadata": {},
   "outputs": [],
   "source": []
  }
 ],
 "metadata": {
  "kernelspec": {
   "display_name": "Python 3",
   "language": "python",
   "name": "python3"
  },
  "language_info": {
   "codemirror_mode": {
    "name": "ipython",
    "version": 3
   },
   "file_extension": ".py",
   "mimetype": "text/x-python",
   "name": "python",
   "nbconvert_exporter": "python",
   "pygments_lexer": "ipython3",
   "version": "3.8.8"
  }
 },
 "nbformat": 4,
 "nbformat_minor": 5
}
