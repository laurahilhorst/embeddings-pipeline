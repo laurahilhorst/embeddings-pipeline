{
 "cells": [
  {
   "cell_type": "code",
   "execution_count": 47,
   "id": "a482a3ff",
   "metadata": {},
   "outputs": [],
   "source": [
    "import pandas as pd\n",
    "import numpy as np\n",
    "import gensim\n",
    "import pprint\n",
    "import regex as re\n",
    "from time import time\n",
    "from collections import defaultdict\n",
    "import os\n",
    "import string\n",
    "import spacy\n",
    "from spacy.lang.nl.examples import sentences \n",
    "from nltk.tokenize import word_tokenize, sent_tokenize\n",
    "from nltk.corpus import stopwords\n",
    "from collections import Counter\n",
    "import json\n",
    "import matplotlib.pyplot as plt\n",
    "import itertools"
   ]
  },
  {
   "cell_type": "code",
   "execution_count": 48,
   "id": "4cdad615",
   "metadata": {},
   "outputs": [
    {
     "data": {
      "text/plain": [
       "['homoseksuele',\n",
       " 'gay',\n",
       " 'flikker',\n",
       " 'homo',\n",
       " 'homofiel',\n",
       " 'homoseksueel',\n",
       " 'moor',\n",
       " 'neger',\n",
       " 'negerin',\n",
       " 'roma',\n",
       " 'zigeunerin',\n",
       " 'gipsy',\n",
       " 'zigeuner']"
      ]
     },
     "execution_count": 48,
     "metadata": {},
     "output_type": "execute_result"
    }
   ],
   "source": [
    "#synsets\n",
    "syns_homo = ['homoseksuele', 'gay', 'flikker','homo', 'homofiel', 'homoseksueel']\n",
    "syns_neger = ['moor', 'neger', 'negerin'] \n",
    "syns_zigeuner = ['roma', 'zigeunerin', 'gipsy', 'zigeuner']\n",
    "all_syns = syns_homo + syns_neger + syns_zigeuner\n",
    "all_syns"
   ]
  },
  {
   "cell_type": "code",
   "execution_count": 49,
   "id": "e3cb9bc8",
   "metadata": {},
   "outputs": [
    {
     "name": "stdout",
     "output_type": "stream",
     "text": [
      "CPU times: user 8.29 s, sys: 2.51 s, total: 10.8 s\n",
      "Wall time: 12.3 s\n"
     ]
    },
    {
     "data": {
      "text/html": [
       "<div>\n",
       "<style scoped>\n",
       "    .dataframe tbody tr th:only-of-type {\n",
       "        vertical-align: middle;\n",
       "    }\n",
       "\n",
       "    .dataframe tbody tr th {\n",
       "        vertical-align: top;\n",
       "    }\n",
       "\n",
       "    .dataframe thead th {\n",
       "        text-align: right;\n",
       "    }\n",
       "</style>\n",
       "<table border=\"1\" class=\"dataframe\">\n",
       "  <thead>\n",
       "    <tr style=\"text-align: right;\">\n",
       "      <th></th>\n",
       "      <th>Unnamed: 0</th>\n",
       "      <th>article_id</th>\n",
       "      <th>text</th>\n",
       "      <th>decade</th>\n",
       "    </tr>\n",
       "  </thead>\n",
       "  <tbody>\n",
       "    <tr>\n",
       "      <th>0</th>\n",
       "      <td>0</td>\n",
       "      <td>http://resolver.kb.nl/resolve?urn=ABCDDD:01093...</td>\n",
       "      <td>['\\nDoorleefd en doorleden\\nEen geheel andere ...</td>\n",
       "      <td>1940</td>\n",
       "    </tr>\n",
       "    <tr>\n",
       "      <th>1</th>\n",
       "      <td>1</td>\n",
       "      <td>http://resolver.kb.nl/resolve?urn=ABCDDD:01084...</td>\n",
       "      <td>['\\nDe Canadees met de broodwagen Sprookje met...</td>\n",
       "      <td>1940</td>\n",
       "    </tr>\n",
       "    <tr>\n",
       "      <th>2</th>\n",
       "      <td>2</td>\n",
       "      <td>http://resolver.kb.nl/resolve?urn=ABCDDD:01084...</td>\n",
       "      <td>['\\nHOOFDSTUK XX\\nAls Torn Hawkins er ook maar...</td>\n",
       "      <td>1940</td>\n",
       "    </tr>\n",
       "    <tr>\n",
       "      <th>3</th>\n",
       "      <td>3</td>\n",
       "      <td>http://resolver.kb.nl/resolve?urn=ABCDDD:01088...</td>\n",
       "      <td>['\\nVeelzijdigheid\\nHet textielbedrijf is inde...</td>\n",
       "      <td>1940</td>\n",
       "    </tr>\n",
       "    <tr>\n",
       "      <th>4</th>\n",
       "      <td>4</td>\n",
       "      <td>http://resolver.kb.nl/resolve?urn=ABCDDD:01093...</td>\n",
       "      <td>['\\nNieuwe werken dan JAN SLUYTERS\\nDE Kunstza...</td>\n",
       "      <td>1940</td>\n",
       "    </tr>\n",
       "    <tr>\n",
       "      <th>...</th>\n",
       "      <td>...</td>\n",
       "      <td>...</td>\n",
       "      <td>...</td>\n",
       "      <td>...</td>\n",
       "    </tr>\n",
       "    <tr>\n",
       "      <th>57</th>\n",
       "      <td>57</td>\n",
       "      <td>http://resolver.kb.nl/resolve?urn=ABCDDD:01084...</td>\n",
       "      <td>['\\nSTERK DEBUUT VAN HEINTJE DAVIDS\\n\\'van onz...</td>\n",
       "      <td>1960</td>\n",
       "    </tr>\n",
       "    <tr>\n",
       "      <th>58</th>\n",
       "      <td>58</td>\n",
       "      <td>http://resolver.kb.nl/resolve?urn=ABCDDD:01087...</td>\n",
       "      <td>['\\n\\nVINOLIA LOTIONS MET EXQUISE GEUREN TRES ...</td>\n",
       "      <td>1960</td>\n",
       "    </tr>\n",
       "    <tr>\n",
       "      <th>59</th>\n",
       "      <td>59</td>\n",
       "      <td>http://resolver.kb.nl/resolve?urn=ABCDDD:01087...</td>\n",
       "      <td>['\\n\\nI : H&amp; ■ i Zienl., En gezien worden: Uw ...</td>\n",
       "      <td>1960</td>\n",
       "    </tr>\n",
       "    <tr>\n",
       "      <th>60</th>\n",
       "      <td>60</td>\n",
       "      <td>http://resolver.kb.nl/resolve?urn=ABCDDD:01087...</td>\n",
       "      <td>['\\nMatroos van „Doorman” voor krijgsraad\\n(Va...</td>\n",
       "      <td>1960</td>\n",
       "    </tr>\n",
       "    <tr>\n",
       "      <th>61</th>\n",
       "      <td>61</td>\n",
       "      <td>http://resolver.kb.nl/resolve?urn=ABCDDD:01088...</td>\n",
       "      <td>[\"\\nHOGE UITKERING OP X TELLO\\n(Van onze sport...</td>\n",
       "      <td>1960</td>\n",
       "    </tr>\n",
       "  </tbody>\n",
       "</table>\n",
       "<p>129794 rows × 4 columns</p>\n",
       "</div>"
      ],
      "text/plain": [
       "   Unnamed: 0                                         article_id  \\\n",
       "0           0  http://resolver.kb.nl/resolve?urn=ABCDDD:01093...   \n",
       "1           1  http://resolver.kb.nl/resolve?urn=ABCDDD:01084...   \n",
       "2           2  http://resolver.kb.nl/resolve?urn=ABCDDD:01084...   \n",
       "3           3  http://resolver.kb.nl/resolve?urn=ABCDDD:01088...   \n",
       "4           4  http://resolver.kb.nl/resolve?urn=ABCDDD:01093...   \n",
       "..        ...                                                ...   \n",
       "57         57  http://resolver.kb.nl/resolve?urn=ABCDDD:01084...   \n",
       "58         58  http://resolver.kb.nl/resolve?urn=ABCDDD:01087...   \n",
       "59         59  http://resolver.kb.nl/resolve?urn=ABCDDD:01087...   \n",
       "60         60  http://resolver.kb.nl/resolve?urn=ABCDDD:01087...   \n",
       "61         61  http://resolver.kb.nl/resolve?urn=ABCDDD:01088...   \n",
       "\n",
       "                                                 text decade  \n",
       "0   ['\\nDoorleefd en doorleden\\nEen geheel andere ...   1940  \n",
       "1   ['\\nDe Canadees met de broodwagen Sprookje met...   1940  \n",
       "2   ['\\nHOOFDSTUK XX\\nAls Torn Hawkins er ook maar...   1940  \n",
       "3   ['\\nVeelzijdigheid\\nHet textielbedrijf is inde...   1940  \n",
       "4   ['\\nNieuwe werken dan JAN SLUYTERS\\nDE Kunstza...   1940  \n",
       "..                                                ...    ...  \n",
       "57  ['\\nSTERK DEBUUT VAN HEINTJE DAVIDS\\n\\'van onz...   1960  \n",
       "58  ['\\n\\nVINOLIA LOTIONS MET EXQUISE GEUREN TRES ...   1960  \n",
       "59  ['\\n\\nI : H& ■ i Zienl., En gezien worden: Uw ...   1960  \n",
       "60  ['\\nMatroos van „Doorman” voor krijgsraad\\n(Va...   1960  \n",
       "61  [\"\\nHOGE UITKERING OP X TELLO\\n(Van onze sport...   1960  \n",
       "\n",
       "[129794 rows x 4 columns]"
      ]
     },
     "execution_count": 49,
     "metadata": {},
     "output_type": "execute_result"
    }
   ],
   "source": [
    "%%time\n",
    "#voeg alle tekst samen en maak een df\n",
    "text_df= pd.DataFrame()\n",
    "rootdir = str(os.getcwd()) + '/textfiles_2107'\n",
    "\n",
    "for subdir, dirs, files in os.walk(rootdir):\n",
    "    for file in files:\n",
    "        if file.startswith(\"text\"):\n",
    "            part_df = pd.read_csv(rootdir + \"/\" + file)\n",
    "            text_df = text_df.append(part_df)\n",
    "text_df"
   ]
  },
  {
   "cell_type": "code",
   "execution_count": 50,
   "id": "03d9a5f7",
   "metadata": {},
   "outputs": [
    {
     "name": "stdout",
     "output_type": "stream",
     "text": [
      "CPU times: user 3.22 s, sys: 415 ms, total: 3.63 s\n",
      "Wall time: 3.76 s\n"
     ]
    }
   ],
   "source": [
    "%%time\n",
    "#voeg alle tekst samen met de metadata\n",
    "meta_df= pd.DataFrame()\n",
    "rootdir = str(os.getcwd()) + '/metadata_2107'\n",
    "\n",
    "for subdir, dirs, files in os.walk(rootdir):\n",
    "    for file in files:\n",
    "        if file.startswith(\"article\"):\n",
    "            part_df = pd.read_csv(rootdir + \"/\" + file)\n",
    "            meta_df = meta_df.append(part_df)"
   ]
  },
  {
   "cell_type": "code",
   "execution_count": 51,
   "id": "80697081",
   "metadata": {
    "scrolled": true
   },
   "outputs": [
    {
     "name": "stdout",
     "output_type": "stream",
     "text": [
      "CPU times: user 1.36 s, sys: 139 ms, total: 1.5 s\n",
      "Wall time: 1.54 s\n"
     ]
    },
    {
     "data": {
      "text/html": [
       "<div>\n",
       "<style scoped>\n",
       "    .dataframe tbody tr th:only-of-type {\n",
       "        vertical-align: middle;\n",
       "    }\n",
       "\n",
       "    .dataframe tbody tr th {\n",
       "        vertical-align: top;\n",
       "    }\n",
       "\n",
       "    .dataframe thead th {\n",
       "        text-align: right;\n",
       "    }\n",
       "</style>\n",
       "<table border=\"1\" class=\"dataframe\">\n",
       "  <thead>\n",
       "    <tr style=\"text-align: right;\">\n",
       "      <th></th>\n",
       "      <th>index</th>\n",
       "      <th>article_id</th>\n",
       "      <th>date</th>\n",
       "      <th>ppn</th>\n",
       "      <th>text</th>\n",
       "      <th>search_term</th>\n",
       "      <th>decade</th>\n",
       "      <th>article_type</th>\n",
       "    </tr>\n",
       "  </thead>\n",
       "  <tbody>\n",
       "    <tr>\n",
       "      <th>0</th>\n",
       "      <td>22501</td>\n",
       "      <td>http://resolver.kb.nl/resolve?urn=ddd:11057852...</td>\n",
       "      <td>1940-01-03</td>\n",
       "      <td>832675288</td>\n",
       "      <td>['\\nKUNST. Twee Kerst-exposities WERKEN VAN LA...</td>\n",
       "      <td>neger</td>\n",
       "      <td>1940</td>\n",
       "      <td>artikel</td>\n",
       "    </tr>\n",
       "    <tr>\n",
       "      <th>1</th>\n",
       "      <td>155564</td>\n",
       "      <td>http://resolver.kb.nl/resolve?urn=ABCDDD:01084...</td>\n",
       "      <td>1940-01-03</td>\n",
       "      <td>412869594</td>\n",
       "      <td>['\\nGrote slag bij Salla op komst GEEN MENSEN ...</td>\n",
       "      <td>roma</td>\n",
       "      <td>1940</td>\n",
       "      <td>artikel</td>\n",
       "    </tr>\n",
       "    <tr>\n",
       "      <th>2</th>\n",
       "      <td>156018</td>\n",
       "      <td>http://resolver.kb.nl/resolve?urn=ddd:11057852...</td>\n",
       "      <td>1940-01-03</td>\n",
       "      <td>832675288</td>\n",
       "      <td>['\\nUIT DE GESCHIEDENIS DEE „CANCELLERÍA”.\\nPa...</td>\n",
       "      <td>roma</td>\n",
       "      <td>1940</td>\n",
       "      <td>artikel</td>\n",
       "    </tr>\n",
       "    <tr>\n",
       "      <th>3</th>\n",
       "      <td>16</td>\n",
       "      <td>http://resolver.kb.nl/resolve?urn=ABCDDD:01084...</td>\n",
       "      <td>1940-01-04</td>\n",
       "      <td>412869594</td>\n",
       "      <td>['\\n\\nBURGERLIJKE STAND § Geboren: Benjamin W....</td>\n",
       "      <td>moor</td>\n",
       "      <td>1940</td>\n",
       "      <td>familiebericht</td>\n",
       "    </tr>\n",
       "    <tr>\n",
       "      <th>4</th>\n",
       "      <td>155500</td>\n",
       "      <td>http://resolver.kb.nl/resolve?urn=ABCDDD:01084...</td>\n",
       "      <td>1940-01-04</td>\n",
       "      <td>412869594</td>\n",
       "      <td>['\\nOngeregeldheden in Leningrad en Moskou ER ...</td>\n",
       "      <td>roma</td>\n",
       "      <td>1940</td>\n",
       "      <td>artikel</td>\n",
       "    </tr>\n",
       "    <tr>\n",
       "      <th>...</th>\n",
       "      <td>...</td>\n",
       "      <td>...</td>\n",
       "      <td>...</td>\n",
       "      <td>...</td>\n",
       "      <td>...</td>\n",
       "      <td>...</td>\n",
       "      <td>...</td>\n",
       "      <td>...</td>\n",
       "    </tr>\n",
       "    <tr>\n",
       "      <th>113590</th>\n",
       "      <td>2350</td>\n",
       "      <td>http://resolver.kb.nl/resolve?urn=ABCDDD:01082...</td>\n",
       "      <td>1995-12-30</td>\n",
       "      <td>412789353</td>\n",
       "      <td>['\\n\\nBlijft u liever niet alleen? Bij ons sta...</td>\n",
       "      <td>homo</td>\n",
       "      <td>1990</td>\n",
       "      <td>advertentie</td>\n",
       "    </tr>\n",
       "    <tr>\n",
       "      <th>113591</th>\n",
       "      <td>147301</td>\n",
       "      <td>http://resolver.kb.nl/resolve?urn=ABCDDD:01087...</td>\n",
       "      <td>1995-12-30</td>\n",
       "      <td>412869594</td>\n",
       "      <td>[\"\\nTELEVISIE\\n■ NEDERLAND 1 07.00 NOS: Tekst ...</td>\n",
       "      <td>gay</td>\n",
       "      <td>1990</td>\n",
       "      <td>artikel</td>\n",
       "    </tr>\n",
       "    <tr>\n",
       "      <th>113592</th>\n",
       "      <td>133690</td>\n",
       "      <td>http://resolver.kb.nl/resolve?urn=ABCDDD:01087...</td>\n",
       "      <td>1995-12-30</td>\n",
       "      <td>412869594</td>\n",
       "      <td>['\\nGoloebjeva - Van Lith (WK-vrouwen 1995)\\n$...</td>\n",
       "      <td>roma</td>\n",
       "      <td>1990</td>\n",
       "      <td>artikel</td>\n",
       "    </tr>\n",
       "    <tr>\n",
       "      <th>113593</th>\n",
       "      <td>132483</td>\n",
       "      <td>http://resolver.kb.nl/resolve?urn=ABCDDD:01087...</td>\n",
       "      <td>1995-12-30</td>\n",
       "      <td>412869594</td>\n",
       "      <td>['\\nVOETBAL\\nTRIPOLI: vriendschappelijk toerno...</td>\n",
       "      <td>roma</td>\n",
       "      <td>1990</td>\n",
       "      <td>artikel</td>\n",
       "    </tr>\n",
       "    <tr>\n",
       "      <th>113594</th>\n",
       "      <td>889</td>\n",
       "      <td>http://resolver.kb.nl/resolve?urn=ABCDDD:01082...</td>\n",
       "      <td>1995-12-30</td>\n",
       "      <td>412789353</td>\n",
       "      <td>[\"\\n\\n2 wkn FLY-DRIVE: FLORIDA ƒ1065. CALIFORN...</td>\n",
       "      <td>gay</td>\n",
       "      <td>1990</td>\n",
       "      <td>advertentie</td>\n",
       "    </tr>\n",
       "  </tbody>\n",
       "</table>\n",
       "<p>113595 rows × 8 columns</p>\n",
       "</div>"
      ],
      "text/plain": [
       "         index                                         article_id       date  \\\n",
       "0        22501  http://resolver.kb.nl/resolve?urn=ddd:11057852... 1940-01-03   \n",
       "1       155564  http://resolver.kb.nl/resolve?urn=ABCDDD:01084... 1940-01-03   \n",
       "2       156018  http://resolver.kb.nl/resolve?urn=ddd:11057852... 1940-01-03   \n",
       "3           16  http://resolver.kb.nl/resolve?urn=ABCDDD:01084... 1940-01-04   \n",
       "4       155500  http://resolver.kb.nl/resolve?urn=ABCDDD:01084... 1940-01-04   \n",
       "...        ...                                                ...        ...   \n",
       "113590    2350  http://resolver.kb.nl/resolve?urn=ABCDDD:01082... 1995-12-30   \n",
       "113591  147301  http://resolver.kb.nl/resolve?urn=ABCDDD:01087... 1995-12-30   \n",
       "113592  133690  http://resolver.kb.nl/resolve?urn=ABCDDD:01087... 1995-12-30   \n",
       "113593  132483  http://resolver.kb.nl/resolve?urn=ABCDDD:01087... 1995-12-30   \n",
       "113594     889  http://resolver.kb.nl/resolve?urn=ABCDDD:01082... 1995-12-30   \n",
       "\n",
       "              ppn                                               text  \\\n",
       "0       832675288  ['\\nKUNST. Twee Kerst-exposities WERKEN VAN LA...   \n",
       "1       412869594  ['\\nGrote slag bij Salla op komst GEEN MENSEN ...   \n",
       "2       832675288  ['\\nUIT DE GESCHIEDENIS DEE „CANCELLERÍA”.\\nPa...   \n",
       "3       412869594  ['\\n\\nBURGERLIJKE STAND § Geboren: Benjamin W....   \n",
       "4       412869594  ['\\nOngeregeldheden in Leningrad en Moskou ER ...   \n",
       "...           ...                                                ...   \n",
       "113590  412789353  ['\\n\\nBlijft u liever niet alleen? Bij ons sta...   \n",
       "113591  412869594  [\"\\nTELEVISIE\\n■ NEDERLAND 1 07.00 NOS: Tekst ...   \n",
       "113592  412869594  ['\\nGoloebjeva - Van Lith (WK-vrouwen 1995)\\n$...   \n",
       "113593  412869594  ['\\nVOETBAL\\nTRIPOLI: vriendschappelijk toerno...   \n",
       "113594  412789353  [\"\\n\\n2 wkn FLY-DRIVE: FLORIDA ƒ1065. CALIFORN...   \n",
       "\n",
       "       search_term decade    article_type  \n",
       "0            neger   1940         artikel  \n",
       "1             roma   1940         artikel  \n",
       "2             roma   1940         artikel  \n",
       "3             moor   1940  familiebericht  \n",
       "4             roma   1940         artikel  \n",
       "...            ...    ...             ...  \n",
       "113590        homo   1990     advertentie  \n",
       "113591         gay   1990         artikel  \n",
       "113592        roma   1990         artikel  \n",
       "113593        roma   1990         artikel  \n",
       "113594         gay   1990     advertentie  \n",
       "\n",
       "[113595 rows x 8 columns]"
      ]
     },
     "execution_count": 51,
     "metadata": {},
     "output_type": "execute_result"
    }
   ],
   "source": [
    "%%time\n",
    "#voeg alles samen in een df\n",
    "all_df = meta_df.merge(text_df, on='article_id')\n",
    "all_df = all_df[['article_id','date','ppn','text','search_term','decade','article_type']]\n",
    "all_df['search_term'].replace('Roma','roma',inplace=True)\n",
    "all_df = all_df.sort_values(by='date')\n",
    "all_df['date'] = pd.to_datetime(all_df['date'])\n",
    "all_df['text'] = all_df['text'].str.replace('Roma','roma')\n",
    "all_df.drop_duplicates(subset='article_id', keep=\"first\",inplace=True)\n",
    "all_df.reset_index(inplace=True)"
   ]
  },
  {
   "cell_type": "code",
   "execution_count": 52,
   "id": "9af958c3",
   "metadata": {},
   "outputs": [
    {
     "data": {
      "text/html": [
       "<div>\n",
       "<style scoped>\n",
       "    .dataframe tbody tr th:only-of-type {\n",
       "        vertical-align: middle;\n",
       "    }\n",
       "\n",
       "    .dataframe tbody tr th {\n",
       "        vertical-align: top;\n",
       "    }\n",
       "\n",
       "    .dataframe thead th {\n",
       "        text-align: right;\n",
       "    }\n",
       "</style>\n",
       "<table border=\"1\" class=\"dataframe\">\n",
       "  <thead>\n",
       "    <tr style=\"text-align: right;\">\n",
       "      <th></th>\n",
       "      <th>index</th>\n",
       "      <th>article_id</th>\n",
       "      <th>date</th>\n",
       "      <th>ppn</th>\n",
       "      <th>text</th>\n",
       "      <th>search_term</th>\n",
       "      <th>decade</th>\n",
       "      <th>article_type</th>\n",
       "    </tr>\n",
       "  </thead>\n",
       "  <tbody>\n",
       "    <tr>\n",
       "      <th>0</th>\n",
       "      <td>22501</td>\n",
       "      <td>http://resolver.kb.nl/resolve?urn=ddd:11057852...</td>\n",
       "      <td>1940-01-03</td>\n",
       "      <td>832675288</td>\n",
       "      <td>['\\nKUNST. Twee Kerst-exposities WERKEN VAN LA...</td>\n",
       "      <td>neger</td>\n",
       "      <td>1940</td>\n",
       "      <td>artikel</td>\n",
       "    </tr>\n",
       "    <tr>\n",
       "      <th>1</th>\n",
       "      <td>155564</td>\n",
       "      <td>http://resolver.kb.nl/resolve?urn=ABCDDD:01084...</td>\n",
       "      <td>1940-01-03</td>\n",
       "      <td>412869594</td>\n",
       "      <td>['\\nGrote slag bij Salla op komst GEEN MENSEN ...</td>\n",
       "      <td>roma</td>\n",
       "      <td>1940</td>\n",
       "      <td>artikel</td>\n",
       "    </tr>\n",
       "    <tr>\n",
       "      <th>2</th>\n",
       "      <td>156018</td>\n",
       "      <td>http://resolver.kb.nl/resolve?urn=ddd:11057852...</td>\n",
       "      <td>1940-01-03</td>\n",
       "      <td>832675288</td>\n",
       "      <td>['\\nUIT DE GESCHIEDENIS DEE „CANCELLERÍA”.\\nPa...</td>\n",
       "      <td>roma</td>\n",
       "      <td>1940</td>\n",
       "      <td>artikel</td>\n",
       "    </tr>\n",
       "    <tr>\n",
       "      <th>4</th>\n",
       "      <td>155500</td>\n",
       "      <td>http://resolver.kb.nl/resolve?urn=ABCDDD:01084...</td>\n",
       "      <td>1940-01-04</td>\n",
       "      <td>412869594</td>\n",
       "      <td>['\\nOngeregeldheden in Leningrad en Moskou ER ...</td>\n",
       "      <td>roma</td>\n",
       "      <td>1940</td>\n",
       "      <td>artikel</td>\n",
       "    </tr>\n",
       "    <tr>\n",
       "      <th>5</th>\n",
       "      <td>549</td>\n",
       "      <td>http://resolver.kb.nl/resolve?urn=ddd:11057853...</td>\n",
       "      <td>1940-01-05</td>\n",
       "      <td>832675288</td>\n",
       "      <td>['\\nMARKTBERICHTEN.\\nPAARDEN EN VEE.\\nLEEUWARD...</td>\n",
       "      <td>gay</td>\n",
       "      <td>1940</td>\n",
       "      <td>artikel</td>\n",
       "    </tr>\n",
       "    <tr>\n",
       "      <th>...</th>\n",
       "      <td>...</td>\n",
       "      <td>...</td>\n",
       "      <td>...</td>\n",
       "      <td>...</td>\n",
       "      <td>...</td>\n",
       "      <td>...</td>\n",
       "      <td>...</td>\n",
       "      <td>...</td>\n",
       "    </tr>\n",
       "    <tr>\n",
       "      <th>113586</th>\n",
       "      <td>1102</td>\n",
       "      <td>http://resolver.kb.nl/resolve?urn=ABCDDD:01082...</td>\n",
       "      <td>1995-12-30</td>\n",
       "      <td>412789353</td>\n",
       "      <td>[\"\\nEngeland 2\\n08.30 The adventures of Skippy...</td>\n",
       "      <td>gay</td>\n",
       "      <td>1990</td>\n",
       "      <td>artikel</td>\n",
       "    </tr>\n",
       "    <tr>\n",
       "      <th>113588</th>\n",
       "      <td>63780</td>\n",
       "      <td>http://resolver.kb.nl/resolve?urn=ABCDDD:01087...</td>\n",
       "      <td>1995-12-30</td>\n",
       "      <td>412869594</td>\n",
       "      <td>[\"\\nGOEDE SPELEN, SLECHTE SPELEN door Jan Joos...</td>\n",
       "      <td>homo</td>\n",
       "      <td>1990</td>\n",
       "      <td>artikel</td>\n",
       "    </tr>\n",
       "    <tr>\n",
       "      <th>113591</th>\n",
       "      <td>147301</td>\n",
       "      <td>http://resolver.kb.nl/resolve?urn=ABCDDD:01087...</td>\n",
       "      <td>1995-12-30</td>\n",
       "      <td>412869594</td>\n",
       "      <td>[\"\\nTELEVISIE\\n■ NEDERLAND 1 07.00 NOS: Tekst ...</td>\n",
       "      <td>gay</td>\n",
       "      <td>1990</td>\n",
       "      <td>artikel</td>\n",
       "    </tr>\n",
       "    <tr>\n",
       "      <th>113592</th>\n",
       "      <td>133690</td>\n",
       "      <td>http://resolver.kb.nl/resolve?urn=ABCDDD:01087...</td>\n",
       "      <td>1995-12-30</td>\n",
       "      <td>412869594</td>\n",
       "      <td>['\\nGoloebjeva - Van Lith (WK-vrouwen 1995)\\n$...</td>\n",
       "      <td>roma</td>\n",
       "      <td>1990</td>\n",
       "      <td>artikel</td>\n",
       "    </tr>\n",
       "    <tr>\n",
       "      <th>113593</th>\n",
       "      <td>132483</td>\n",
       "      <td>http://resolver.kb.nl/resolve?urn=ABCDDD:01087...</td>\n",
       "      <td>1995-12-30</td>\n",
       "      <td>412869594</td>\n",
       "      <td>['\\nVOETBAL\\nTRIPOLI: vriendschappelijk toerno...</td>\n",
       "      <td>roma</td>\n",
       "      <td>1990</td>\n",
       "      <td>artikel</td>\n",
       "    </tr>\n",
       "  </tbody>\n",
       "</table>\n",
       "<p>61860 rows × 8 columns</p>\n",
       "</div>"
      ],
      "text/plain": [
       "         index                                         article_id       date  \\\n",
       "0        22501  http://resolver.kb.nl/resolve?urn=ddd:11057852... 1940-01-03   \n",
       "1       155564  http://resolver.kb.nl/resolve?urn=ABCDDD:01084... 1940-01-03   \n",
       "2       156018  http://resolver.kb.nl/resolve?urn=ddd:11057852... 1940-01-03   \n",
       "4       155500  http://resolver.kb.nl/resolve?urn=ABCDDD:01084... 1940-01-04   \n",
       "5          549  http://resolver.kb.nl/resolve?urn=ddd:11057853... 1940-01-05   \n",
       "...        ...                                                ...        ...   \n",
       "113586    1102  http://resolver.kb.nl/resolve?urn=ABCDDD:01082... 1995-12-30   \n",
       "113588   63780  http://resolver.kb.nl/resolve?urn=ABCDDD:01087... 1995-12-30   \n",
       "113591  147301  http://resolver.kb.nl/resolve?urn=ABCDDD:01087... 1995-12-30   \n",
       "113592  133690  http://resolver.kb.nl/resolve?urn=ABCDDD:01087... 1995-12-30   \n",
       "113593  132483  http://resolver.kb.nl/resolve?urn=ABCDDD:01087... 1995-12-30   \n",
       "\n",
       "              ppn                                               text  \\\n",
       "0       832675288  ['\\nKUNST. Twee Kerst-exposities WERKEN VAN LA...   \n",
       "1       412869594  ['\\nGrote slag bij Salla op komst GEEN MENSEN ...   \n",
       "2       832675288  ['\\nUIT DE GESCHIEDENIS DEE „CANCELLERÍA”.\\nPa...   \n",
       "4       412869594  ['\\nOngeregeldheden in Leningrad en Moskou ER ...   \n",
       "5       832675288  ['\\nMARKTBERICHTEN.\\nPAARDEN EN VEE.\\nLEEUWARD...   \n",
       "...           ...                                                ...   \n",
       "113586  412789353  [\"\\nEngeland 2\\n08.30 The adventures of Skippy...   \n",
       "113588  412869594  [\"\\nGOEDE SPELEN, SLECHTE SPELEN door Jan Joos...   \n",
       "113591  412869594  [\"\\nTELEVISIE\\n■ NEDERLAND 1 07.00 NOS: Tekst ...   \n",
       "113592  412869594  ['\\nGoloebjeva - Van Lith (WK-vrouwen 1995)\\n$...   \n",
       "113593  412869594  ['\\nVOETBAL\\nTRIPOLI: vriendschappelijk toerno...   \n",
       "\n",
       "       search_term decade article_type  \n",
       "0            neger   1940      artikel  \n",
       "1             roma   1940      artikel  \n",
       "2             roma   1940      artikel  \n",
       "4             roma   1940      artikel  \n",
       "5              gay   1940      artikel  \n",
       "...            ...    ...          ...  \n",
       "113586         gay   1990      artikel  \n",
       "113588        homo   1990      artikel  \n",
       "113591         gay   1990      artikel  \n",
       "113592        roma   1990      artikel  \n",
       "113593        roma   1990      artikel  \n",
       "\n",
       "[61860 rows x 8 columns]"
      ]
     },
     "execution_count": 52,
     "metadata": {},
     "output_type": "execute_result"
    }
   ],
   "source": [
    "#maak df zonder advertenties\n",
    "no_ads = all_df.loc[all_df['article_type'] == 'artikel']\n",
    "no_ads['article_type'].unique()"
   ]
  },
  {
   "cell_type": "markdown",
   "id": "f726b30c",
   "metadata": {},
   "source": [
    "## Save to disk"
   ]
  },
  {
   "cell_type": "code",
   "execution_count": 53,
   "id": "0e7d91c4",
   "metadata": {},
   "outputs": [],
   "source": [
    "all_df.to_csv('all_df_2607.csv')\n",
    "no_ads.to_csv('no_ads_2607.csv')\n"
   ]
  },
  {
   "cell_type": "markdown",
   "id": "b56707f9",
   "metadata": {},
   "source": [
    "## Total number of samples (full dataset)"
   ]
  },
  {
   "cell_type": "code",
   "execution_count": 54,
   "id": "84471ed4",
   "metadata": {},
   "outputs": [
    {
     "name": "stdout",
     "output_type": "stream",
     "text": [
      "113595\n",
      "              article_id\n",
      "search_term             \n",
      "flikker             1308\n",
      "gay                16623\n",
      "gipsy               1472\n",
      "homo               33817\n",
      "homofiel            1706\n",
      "homoseksueel        2642\n",
      "homoseksuele        5627\n",
      "moor               16631\n",
      "neger              11127\n",
      "negerin             3245\n",
      "roma               15044\n",
      "zigeuner            2454\n",
      "zigeunerin          1899\n",
      "           article_id\n",
      "ppn                  \n",
      "400367629       13212\n",
      "412789353       25569\n",
      "412869594       31286\n",
      "832675288       43528\n",
      "        article_id\n",
      "decade            \n",
      "1940          1762\n",
      "1950          6656\n",
      "1960         10809\n",
      "1970         15057\n",
      "1980         38996\n",
      "1990         40315\n"
     ]
    },
    {
     "data": {
      "text/plain": [
       "113595"
      ]
     },
     "execution_count": 54,
     "metadata": {},
     "output_type": "execute_result"
    }
   ],
   "source": [
    "#total\n",
    "print(len(all_df))\n",
    "\n",
    "#per woord\n",
    "print(all_df[['article_id','search_term']].groupby('search_term').agg('count'))\n",
    "\n",
    "#per krant\n",
    "print(all_df[['article_id','ppn']].groupby('ppn').agg('count'))\n",
    "\n",
    "#per decennium\n",
    "print(all_df[['article_id','decade']].groupby('decade').agg('count'))\n",
    "\n",
    "#groupby alles\n",
    "all_df[['article_id','decade','ppn','search_term']].groupby(['decade','ppn','search_term']).agg('count')\n",
    "len(all_df)"
   ]
  },
  {
   "cell_type": "markdown",
   "id": "c4f97110",
   "metadata": {},
   "source": [
    "## Total number of samples (articles only)"
   ]
  },
  {
   "cell_type": "code",
   "execution_count": 67,
   "id": "643880c0",
   "metadata": {},
   "outputs": [
    {
     "name": "stdout",
     "output_type": "stream",
     "text": [
      "61860\n",
      "              article_id\n",
      "search_term             \n",
      "flikker              620\n",
      "gay                 5282\n",
      "gipsy               1003\n",
      "homo                8819\n",
      "homofiel            1423\n",
      "homoseksueel        2535\n",
      "homoseksuele        4651\n",
      "moor                9924\n",
      "neger               9606\n",
      "negerin              875\n",
      "roma               13184\n",
      "zigeuner            2137\n",
      "zigeunerin          1801\n",
      "           article_id\n",
      "ppn                  \n",
      "400367629       11129\n",
      "412789353       16187\n",
      "412869594       19830\n",
      "832675288       14714\n",
      "        article_id\n",
      "decade            \n",
      "1940          1371\n",
      "1950          5633\n",
      "1960          9085\n",
      "1970         11679\n",
      "1980         19205\n",
      "1990         14887\n"
     ]
    },
    {
     "data": {
      "text/plain": [
       "61860"
      ]
     },
     "execution_count": 67,
     "metadata": {},
     "output_type": "execute_result"
    }
   ],
   "source": [
    "#total\n",
    "print(len(no_ads))\n",
    "#per woord\n",
    "print(no_ads[['article_id','search_term']].groupby('search_term').agg('count'))\n",
    "\n",
    "#per krant\n",
    "print(no_ads[['article_id','ppn']].groupby('ppn').agg('count'))\n",
    "\n",
    "#per decennium\n",
    "print(no_ads[['article_id','decade']].groupby('decade').agg('count'))\n",
    "\n",
    "#groupby alles\n",
    "no_ads[['article_id','decade','ppn','search_term']].groupby(['decade','ppn','search_term']).agg('count')\n",
    "len(no_ads)"
   ]
  },
  {
   "cell_type": "markdown",
   "id": "f3284500",
   "metadata": {},
   "source": [
    "## Vocab size pre-preprocessing total tokens + unique tokens"
   ]
  },
  {
   "cell_type": "code",
   "execution_count": 72,
   "id": "8324a8ca",
   "metadata": {},
   "outputs": [
    {
     "name": "stdout",
     "output_type": "stream",
     "text": [
      "all word tokens: 84406337\n",
      "all unique word tokens: 4707318\n",
      "CPU times: user 8min 8s, sys: 20.3 s, total: 8min 29s\n",
      "Wall time: 9min 6s\n"
     ]
    }
   ],
   "source": [
    "%%time\n",
    "#tokenize docs\n",
    "\n",
    "word_tok_all_na =word_tokenize(str(list(no_ads['text'])))\n",
    "word_tok_unique_na =sent_tokenize(str(list(no_ads['text'])))\n",
    "\n",
    "#all\n",
    "print(\"all word tokens:\",len(word_tok_all))\n",
    "print(\"all unique word tokens:\",len(set(word_tok_unique)))\n"
   ]
  },
  {
   "cell_type": "markdown",
   "id": "079ef447",
   "metadata": {},
   "source": [
    "## Preprocessing"
   ]
  },
  {
   "cell_type": "code",
   "execution_count": 56,
   "id": "147e3726",
   "metadata": {},
   "outputs": [],
   "source": [
    "#tekst opschonen\n",
    "def cleaning(docs):\n",
    "    \"\"\"lowercases docs and removes newlines. Returns list of docs\"\"\"\n",
    "    clean_docs = []\n",
    "    for doc in docs:\n",
    "        doc = doc.replace(\"\\\\n\", \" \")\n",
    "        doc = doc.lower()\n",
    "        clean_docs.append(doc)\n",
    "        #print(doc)\n",
    "    return clean_docs\n"
   ]
  },
  {
   "cell_type": "markdown",
   "id": "21fd2f5e",
   "metadata": {},
   "source": [
    "## Preprocessing steps:\n",
    "- Lower\n",
    "- Remove tekens\n",
    "- Remove stopwords\n",
    "- Lemmatize/Stem\n",
    "- Remove rare tokens\n"
   ]
  },
  {
   "cell_type": "code",
   "execution_count": 57,
   "id": "3910b469",
   "metadata": {},
   "outputs": [],
   "source": [
    "#initialize nlp function\n",
    "nlp = spacy.load(\"nl_core_news_sm\",disable=['ner', 'parser','tagger','textcat'])\n",
    "raw_texts =  list(all_df['text'])\n",
    "raw_texts_na = list(no_ads['text'])"
   ]
  },
  {
   "cell_type": "code",
   "execution_count": 58,
   "id": "d9cfa5d5",
   "metadata": {},
   "outputs": [],
   "source": [
    "#preprocessing pipeline\n",
    "def preprocess(texts):\n",
    "    stopword_list = stopwords.words('dutch')\n",
    "    texts = [text.replace(\"\\\\n\", \"\").strip() for text in texts]\n",
    "    texts = [text.replace(\"\\\\\", \"\").strip() for text in texts]\n",
    "    docs = nlp.pipe(texts)\n",
    "    cleaned_lemmas = [[t.lemma_ for t in doc if t.lemma_ not in stopword_list and not t.is_digit and not t.is_punct and len(t) > 3] for doc in docs]\n",
    "    no_dups = list(cleaned_lemmas for cleaned_lemmas,_ in itertools.groupby(cleaned_lemmas))\n",
    "    return cleaned_lemmas\n",
    "    "
   ]
  },
  {
   "cell_type": "code",
   "execution_count": 59,
   "id": "d3b86de4",
   "metadata": {},
   "outputs": [
    {
     "name": "stdout",
     "output_type": "stream",
     "text": [
      "CPU times: user 1h 37min 58s, sys: 15min 51s, total: 1h 53min 49s\n",
      "Wall time: 1h 55min 29s\n"
     ]
    }
   ],
   "source": [
    "%%time\n",
    "tokens_list_post = preprocess(raw_texts)"
   ]
  },
  {
   "cell_type": "code",
   "execution_count": 60,
   "id": "146a0c03",
   "metadata": {},
   "outputs": [
    {
     "name": "stdout",
     "output_type": "stream",
     "text": [
      "CPU times: user 26min 19s, sys: 8min 49s, total: 35min 8s\n",
      "Wall time: 1h 36min 8s\n"
     ]
    }
   ],
   "source": [
    "%%time\n",
    "tokens_list_post_na = preprocess(raw_texts_na)"
   ]
  },
  {
   "cell_type": "markdown",
   "id": "e67fa367",
   "metadata": {},
   "source": [
    "## After preprocessing"
   ]
  },
  {
   "cell_type": "code",
   "execution_count": 62,
   "id": "ad367f03",
   "metadata": {},
   "outputs": [
    {
     "name": "stdout",
     "output_type": "stream",
     "text": [
      "CPU times: user 2.24 s, sys: 6.49 s, total: 8.73 s\n",
      "Wall time: 12.8 s\n"
     ]
    }
   ],
   "source": [
    "%%time\n",
    "flat_tokens = [word for sublist in tokens_list_post for word in sublist]\n",
    "flat_tokens_na = [word for sublist in tokens_list_post_na for word in sublist]"
   ]
  },
  {
   "cell_type": "code",
   "execution_count": 15,
   "id": "e67fe6b5",
   "metadata": {},
   "outputs": [],
   "source": [
    "tokens_df = pd.Series(tokens_list_post)\n",
    "tokens_df = tokens_df.drop_duplicates()\n",
    "tokens_df.to_json('tokens_post.json')"
   ]
  },
  {
   "cell_type": "code",
   "execution_count": 68,
   "id": "9710b989",
   "metadata": {},
   "outputs": [
    {
     "name": "stdout",
     "output_type": "stream",
     "text": [
      "32913724\n",
      "19545853\n"
     ]
    }
   ],
   "source": [
    "#Number of tokens removed\n",
    "print(len(flat_tokens))# - len(word_tok_all))\n",
    "\n",
    "#for na\n",
    "print(len(flat_tokens_na))# - len(word_tok_all)"
   ]
  },
  {
   "cell_type": "code",
   "execution_count": 69,
   "id": "c9f34d59",
   "metadata": {},
   "outputs": [
    {
     "data": {
      "text/plain": [
       "32913724"
      ]
     },
     "execution_count": 69,
     "metadata": {},
     "output_type": "execute_result"
    }
   ],
   "source": [
    "#Total number of tokens\n",
    "len(flat_tokens)"
   ]
  },
  {
   "cell_type": "code",
   "execution_count": 78,
   "id": "21752796",
   "metadata": {},
   "outputs": [
    {
     "name": "stdout",
     "output_type": "stream",
     "text": [
      "49214145\n",
      "2894706\n",
      "19545853\n",
      "1760102\n"
     ]
    }
   ],
   "source": [
    "#Unique tokens\n",
    "#print(len(set(flat_tokens)))\n",
    "\n",
    "print(len(word_tok_all_na))\n",
    "print(len(word_tok_unique_na))\n",
    "print(len(flat_tokens_na))\n",
    "print(len(list(set(flat_tokens_na))))"
   ]
  },
  {
   "cell_type": "markdown",
   "id": "850d3a1b",
   "metadata": {},
   "source": [
    "all_df"
   ]
  }
 ],
 "metadata": {
  "kernelspec": {
   "display_name": "Python 3",
   "language": "python",
   "name": "python3"
  },
  "language_info": {
   "codemirror_mode": {
    "name": "ipython",
    "version": 3
   },
   "file_extension": ".py",
   "mimetype": "text/x-python",
   "name": "python",
   "nbconvert_exporter": "python",
   "pygments_lexer": "ipython3",
   "version": "3.8.8"
  }
 },
 "nbformat": 4,
 "nbformat_minor": 5
}
