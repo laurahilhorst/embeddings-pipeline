{
 "cells": [
  {
   "cell_type": "code",
   "execution_count": 2,
   "id": "490fee96",
   "metadata": {},
   "outputs": [],
   "source": [
    "import numpy as np\n",
    "import pandas as pd\n",
    "import requests\n",
    "from bs4 import BeautifulSoup\n",
    "from six.moves import urllib\n",
    "import os\n",
    "import nltk\n",
    "from nltk.corpus import wordnet as wn\n"
   ]
  },
  {
   "cell_type": "markdown",
   "id": "e186316a",
   "metadata": {},
   "source": [
    "## 1. Get synsets for target words"
   ]
  },
  {
   "cell_type": "code",
   "execution_count": 3,
   "id": "91371b89",
   "metadata": {},
   "outputs": [],
   "source": [
    "homo_syns = wn.synsets('homo',lang='nld')[0].lemma_names('nld')\n",
    "zigeuner_syns = wn.synsets('zigeuner', lang='nld')[1].lemma_names('nld')\n",
    "neger_syns = wn.synsets('neger',lang='nld')[1].lemma_names('nld')\n",
    "all_syns = homo_syns + neger+_syns + zigeuner_syns"
   ]
  },
  {
   "cell_type": "code",
   "execution_count": 4,
   "id": "de7ec47a",
   "metadata": {},
   "outputs": [
    {
     "data": {
      "text/plain": [
       "['Roma', 'zigeunerin', 'gipsy', 'zigeuner']"
      ]
     },
     "execution_count": 4,
     "metadata": {},
     "output_type": "execute_result"
    }
   ],
   "source": [
    "woorden_eruit = ['zwarte','poot', 'sodemiet','sodemieter','reetkever','holtor','geïnverteerde','mietje','bruinwerker','nicht','nikker','roetmop']\n",
    "all_syns = [i for i in all_syns if i not in woorden_eruit]"
   ]
  },
  {
   "cell_type": "markdown",
   "id": "b474a1c8",
   "metadata": {},
   "source": [
    "## 2. Download data from KB API"
   ]
  },
  {
   "cell_type": "code",
   "execution_count": 5,
   "id": "5a35eeb5",
   "metadata": {},
   "outputs": [],
   "source": [
    "apikey = #fill in your API key\n",
    "startdate =  \"1990-01-01\"\n",
    "enddate = \"1999-12-31\" "
   ]
  },
  {
   "cell_type": "code",
   "execution_count": 6,
   "id": "2934fee0",
   "metadata": {},
   "outputs": [],
   "source": [
    "def get_article_metadata(apikey,startdate,enddate,search_term,ppn,max_records,decade):\n",
    "    daterange = str(startdate + \"%20\" + enddate)\n",
    "    recordsdf = pd.DataFrame(columns = ['article_id','date','article_type'])\n",
    "                             \n",
    "    #get total number of records\n",
    "    start_record = 0\n",
    "    daterange = str(startdate + \"%20\" + enddate)\n",
    "    query = f\"http://jsru.kb.nl/sru/sru/{apikey}?operation=SearchRetrieve&query={search_term}%20and%20(date%20within%20\\\"{daterange}\\\")%20and%20(ppn={ppn})&x-collection=DDD_artikel&recordSchema=dc&startRecord={start_record}&maximumRecords={max_records}\"\n",
    "    url = requests.get(query)\n",
    "    soup = BeautifulSoup(url.content,\"xml\")\n",
    "    for item in soup.findAll('srw:searchRetrieveResponse'):\n",
    "        records = item.find('srw:numberOfRecords').text\n",
    "\n",
    "    while start_record <= int(records):\n",
    "        query = f\"http://jsru.kb.nl/sru/sru/{apikey}?operation=SearchRetrieve&query={search_term}%20and%20(date%20within%20\\\"{daterange}\\\")%20and%20(ppn={ppn})&x-collection=DDD_artikel&recordSchema=dc&startRecord={start_record}&maximumRecords={max_records}\"\n",
    "        url = requests.get(query)\n",
    "        soup = BeautifulSoup(url.content,\"xml\")\n",
    "        for i in soup.findAll('srw:recordData'):\n",
    "            article_id = i.find('dc:identifier').text\n",
    "            date = i.find('dc:date').text\n",
    "            article_type = i.find('dc:type').text\n",
    "            recordsdf = recordsdf.append({'article_id': article_id, 'date':date, 'article_type':article_type},ignore_index=True) \n",
    "        start_record += 1000\n",
    "        \n",
    "    recordsdf['ppn'] = ppn\n",
    "    recordsdf['search_term'] = search_term  \n",
    "\n",
    "    \n",
    "    recordsdf.to_csv(f\"article_metadata_{decade}_{search_term}_{ppn}_2107.csv\")\n",
    "\n",
    "    return(list(set(list(recordsdf['article_id']))))"
   ]
  },
  {
   "cell_type": "code",
   "execution_count": 7,
   "id": "037eb756",
   "metadata": {},
   "outputs": [],
   "source": [
    "def get_article_text(article_ids,search_term,decade,ppn):\n",
    "    texts = []\n",
    "    #df = pd.DataFrame(columns = ['article_id','text'])\n",
    "    for article in article_ids:\n",
    "        url = requests.get(article)\n",
    "        soup = BeautifulSoup(url.content, \"xml\")\n",
    "        text = [i.text for i in soup.findAll('text')]\n",
    "        texts.append(text)\n",
    "        #df = df.append([{'article_id':article,'text':text}],ignore_index=True)\n",
    "    df = pd.DataFrame(list(zip(article_ids, texts)), columns = ['article_id','text'])\n",
    "    df['decade'] = decade\n",
    "    df.to_csv(f\"text_{decade}_{search_term}_{ppn}_2107.csv\")\n",
    "    #return df"
   ]
  },
  {
   "cell_type": "code",
   "execution_count": 9,
   "id": "c50f4da3",
   "metadata": {},
   "outputs": [],
   "source": [
    "decades = [1940, 1950, 1960, 1970, 1980, 1990]\n",
    "ppis = [\"400367629\", \"412789353\", \"412869594\", \"832675288\"]"
   ]
  },
  {
   "cell_type": "code",
   "execution_count": 10,
   "id": "747b83af",
   "metadata": {},
   "outputs": [
    {
     "name": "stdout",
     "output_type": "stream",
     "text": [
      "CPU times: user 2min 57s, sys: 19.1 s, total: 3min 16s\n",
      "Wall time: 51min 43s\n"
     ]
    }
   ],
   "source": [
    "%%time\n",
    "\n",
    "for i in decades:\n",
    "    for j in ppis:\n",
    "        for k in all_syns:\n",
    "            articles = get_article_metadata(apikey,f\"01-01-{i}\",f\"31-12-{i+9}\",str(k),str(j),\"2000\",i)\n",
    "            get_article_text(articles,k,i,j)\n",
    "\n"
   ]
  },
  {
   "cell_type": "code",
   "execution_count": 12,
   "id": "e8f5dd1d",
   "metadata": {},
   "outputs": [],
   "source": [
    "def get_total_results(apikey,startdate,enddate,ppn,max_records):\n",
    "    daterange = str(startdate + \"%20\" + enddate)\n",
    "    query = f\"http://jsru.kb.nl/sru/sru/{apikey}?operation=SearchRetrieve&query=date%20within%20\\\"{daterange}\\\"%20and%20(ppn={ppn})&x-collection=DDD_artikel&recordSchema=dc&maximumRecords={max_records}\"\n",
    "    #print(query)\n",
    "    url = requests.get(query)\n",
    "    soup = BeautifulSoup(url.content,\"xml\")\n",
    "    total_results = soup.find('srw:numberOfRecords')\n",
    "    return total_results.text\n",
    "\n",
    "def get_total_results_na(apikey,startdate,enddate,ppn,max_records):\n",
    "    daterange = str(startdate + \"%20\" + enddate)\n",
    "    query = f\"http://jsru.kb.nl/sru/sru/{apikey}?operation=SearchRetrieve&query=date%20within%20\\\"{daterange}\\\"%20and%20(ppn={ppn})%20and%20(type=artikel)&x-collection=DDD_artikel&recordSchema=dc&maximumRecords={max_records}\"\n",
    "    #print(query)\n",
    "    url = requests.get(query)\n",
    "    soup = BeautifulSoup(url.content,\"xml\")\n",
    "    total_results = soup.find('srw:numberOfRecords')\n",
    "    return total_results.text\n"
   ]
  },
  {
   "cell_type": "code",
   "execution_count": 14,
   "id": "800d5b80",
   "metadata": {},
   "outputs": [
    {
     "name": "stdout",
     "output_type": "stream",
     "text": [
      "CPU times: user 25 s, sys: 863 ms, total: 25.9 s\n",
      "Wall time: 1min 30s\n"
     ]
    }
   ],
   "source": [
    "%%time\n",
    "rows = []\n",
    "na_rows = []\n",
    "decades = [1940,1950,1960,1970,1980,1990]\n",
    "for i in decades:\n",
    "    for j in ppis:\n",
    "            rows.append([i,j,get_total_results(apikey,f\"01-01-{i}\",f\"31-12-{i+9}\",str(j),\"100000\")])\n",
    "            na_rows.append([i,j,get_total_results_na(apikey,f\"01-01-{i}\",f\"31-12-{i+9}\",str(j),\"100000\")])"
   ]
  },
  {
   "cell_type": "code",
   "execution_count": 15,
   "id": "8e0811c6",
   "metadata": {},
   "outputs": [],
   "source": [
    "all_rows_df = pd.DataFrame(rows,columns=['decade','ppn','total_results'])\n",
    "\n",
    "na_rows_df = pd.DataFrame(na_rows,columns=['decade','ppn','total_results'])"
   ]
  },
  {
   "cell_type": "code",
   "execution_count": 1,
   "id": "0b9e28de",
   "metadata": {},
   "outputs": [
    {
     "ename": "NameError",
     "evalue": "name 'all_rows_df' is not defined",
     "output_type": "error",
     "traceback": [
      "\u001b[0;31m---------------------------------------------------------------------------\u001b[0m",
      "\u001b[0;31mNameError\u001b[0m                                 Traceback (most recent call last)",
      "\u001b[0;32m<ipython-input-1-4219a9deb3c4>\u001b[0m in \u001b[0;36m<module>\u001b[0;34m\u001b[0m\n\u001b[0;32m----> 1\u001b[0;31m \u001b[0mall_rows_df\u001b[0m\u001b[0;34m.\u001b[0m\u001b[0mto_csv\u001b[0m\u001b[0;34m(\u001b[0m\u001b[0;34m'total_number_articles.csv'\u001b[0m\u001b[0;34m)\u001b[0m\u001b[0;34m\u001b[0m\u001b[0;34m\u001b[0m\u001b[0m\n\u001b[0m\u001b[1;32m      2\u001b[0m \u001b[0mna_rows_df\u001b[0m\u001b[0;34m.\u001b[0m\u001b[0mto_csv\u001b[0m\u001b[0;34m(\u001b[0m\u001b[0;34m'na_number_articles.csv'\u001b[0m\u001b[0;34m)\u001b[0m\u001b[0;34m\u001b[0m\u001b[0;34m\u001b[0m\u001b[0m\n",
      "\u001b[0;31mNameError\u001b[0m: name 'all_rows_df' is not defined"
     ]
    }
   ],
   "source": [
    "all_rows_df.to_csv('total_number_articles.csv')\n",
    "na_rows_df.to_csv('na_number_articles.csv')"
   ]
  }
 ],
 "metadata": {
  "kernelspec": {
   "display_name": "Python 3",
   "language": "python",
   "name": "python3"
  },
  "language_info": {
   "codemirror_mode": {
    "name": "ipython",
    "version": 3
   },
   "file_extension": ".py",
   "mimetype": "text/x-python",
   "name": "python",
   "nbconvert_exporter": "python",
   "pygments_lexer": "ipython3",
   "version": "3.8.8"
  }
 },
 "nbformat": 4,
 "nbformat_minor": 5
}
